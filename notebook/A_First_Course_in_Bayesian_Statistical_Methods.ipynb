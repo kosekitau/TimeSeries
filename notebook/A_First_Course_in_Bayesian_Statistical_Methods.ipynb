{
 "cells": [
  {
   "cell_type": "markdown",
   "metadata": {},
   "source": [
    "# 「標準ベイズ統計学」の勉強メモ"
   ]
  },
  {
   "cell_type": "code",
   "execution_count": 35,
   "metadata": {},
   "outputs": [],
   "source": [
    "import numpy as np\n",
    "import pandas as pd\n",
    "from scipy.stats import gamma\n",
    "import matplotlib.pyplot as plt"
   ]
  },
  {
   "cell_type": "markdown",
   "metadata": {},
   "source": [
    "## 3.2 ポアソンモデル\n",
    "確率変数Yの予測モデルがポアソン分布と考えられるとき\n",
    "- 同時確率密度関数P(y1..yn|θ)はパラメータθの元で各確率変数の確率密度の積で表される\n",
    "- 同時確率密度関数と共役な分布として、パラメータθの事前分布はガンマ分布が考えられる\n",
    "- なので事後分布はガンマ分布になる\n",
    "- 予測分布p(y~ | y1..yn)は負の二項分布に従う"
   ]
  },
  {
   "cell_type": "code",
   "execution_count": 32,
   "metadata": {},
   "outputs": [
    {
     "name": "stdout",
     "output_type": "stream",
     "text": [
      "大卒の事後分布の95%信用区間[1.70494315 2.22267902]\n",
      "非大卒の事後分布の95%信用区間[1.17343691 1.89083626]\n"
     ]
    },
    {
     "data": {
      "image/png": "[encoded data removed]",
      "text/plain": [
       "<Figure size 720x480 with 1 Axes>"
      ]
     },
     "metadata": {
      "needs_background": "light"
     },
     "output_type": "display_data"
    }
   ],
   "source": [
    "#ガンマ分布(事前分布)のパラメータを決定\n",
    "a = 2\n",
    "b = 1\n",
    "\n",
    "# サンプルデータの定義\n",
    "n1 = 111 # 大卒で子供を持っている人の数\n",
    "sy1 = 217 # 大卒の人の数\n",
    "n2 = 44 # 非大卒で子供を持っている人の数\n",
    "sy2 = 66 # 非大卒の人の数\n",
    "\n",
    "# 大卒の事後分布\n",
    "a1_posterior = a+sy1\n",
    "b1_posterior = b+n1\n",
    "mu_posterior = a1_posterior / b1_posterior # 事後分布の期待値はこうなる\n",
    "gamma_dist1 = gamma(a1_posterior, scale=1/b1_posterior)\n",
    "print(f\"大卒の事後分布の95%信用区間{gamma_dist1.ppf([0.025, 0.975])}\")\n",
    "\n",
    "# 非大卒の事後分布\n",
    "a2_posterior = a+sy2\n",
    "b2_posterior = b+n2\n",
    "mu_posterior = a2_posterior / b2_posterior # 事後分布の期待値はこうなる\n",
    "gamma_dist2 = gamma(a2_posterior, scale=1/b2_posterior)\n",
    "print(f\"非大卒の事後分布の95%信用区間{gamma_dist2.ppf([0.025, 0.975])}\")\n",
    "\n",
    "ls = np.linspace(0, 5, 100)\n",
    "fig = plt.figure(dpi=120)\n",
    "ax = fig.add_subplot(111)\n",
    "ax.plot(ls, gamma_dist1.pdf(ls))\n",
    "ax.plot(ls, gamma_dist2.pdf(ls))\n",
    "ax.plot(ls, gamma(a, scale=1/b).pdf(ls))\n",
    "plt.show()"
   ]
  },
  {
   "cell_type": "markdown",
   "metadata": {},
   "source": [
    "## 7.5欠測データの観測"
   ]
  },
  {
   "cell_type": "code",
   "execution_count": 78,
   "metadata": {},
   "outputs": [
    {
     "data": {
      "text/html": [
       "<div>\n",
       "<style scoped>\n",
       "    .dataframe tbody tr th:only-of-type {\n",
       "        vertical-align: middle;\n",
       "    }\n",
       "\n",
       "    .dataframe tbody tr th {\n",
       "        vertical-align: top;\n",
       "    }\n",
       "\n",
       "    .dataframe thead th {\n",
       "        text-align: right;\n",
       "    }\n",
       "</style>\n",
       "<table border=\"1\" class=\"dataframe\">\n",
       "  <thead>\n",
       "    <tr style=\"text-align: right;\">\n",
       "      <th></th>\n",
       "      <th>glu</th>\n",
       "      <th>bp</th>\n",
       "      <th>skin</th>\n",
       "      <th>bmi</th>\n",
       "    </tr>\n",
       "  </thead>\n",
       "  <tbody>\n",
       "    <tr>\n",
       "      <th>1</th>\n",
       "      <td>86.0</td>\n",
       "      <td>68.0</td>\n",
       "      <td>28.0</td>\n",
       "      <td>30.2</td>\n",
       "    </tr>\n",
       "    <tr>\n",
       "      <th>2</th>\n",
       "      <td>195.0</td>\n",
       "      <td>70.0</td>\n",
       "      <td>33.0</td>\n",
       "      <td>NaN</td>\n",
       "    </tr>\n",
       "    <tr>\n",
       "      <th>3</th>\n",
       "      <td>77.0</td>\n",
       "      <td>82.0</td>\n",
       "      <td>NaN</td>\n",
       "      <td>35.8</td>\n",
       "    </tr>\n",
       "    <tr>\n",
       "      <th>4</th>\n",
       "      <td>NaN</td>\n",
       "      <td>76.0</td>\n",
       "      <td>43.0</td>\n",
       "      <td>47.9</td>\n",
       "    </tr>\n",
       "    <tr>\n",
       "      <th>5</th>\n",
       "      <td>107.0</td>\n",
       "      <td>60.0</td>\n",
       "      <td>NaN</td>\n",
       "      <td>NaN</td>\n",
       "    </tr>\n",
       "  </tbody>\n",
       "</table>\n",
       "</div>"
      ],
      "text/plain": [
       "     glu    bp  skin   bmi\n",
       "1   86.0  68.0  28.0  30.2\n",
       "2  195.0  70.0  33.0   NaN\n",
       "3   77.0  82.0   NaN  35.8\n",
       "4    NaN  76.0  43.0  47.9\n",
       "5  107.0  60.0   NaN   NaN"
      ]
     },
     "execution_count": 78,
     "metadata": {},
     "output_type": "execute_result"
    }
   ],
   "source": [
    "with open(\"../data/diabetes_200_miss.dat.txt\") as f:\n",
    "    data = f.readlines()\n",
    "data = [d[:-1].split() for d in data]\n",
    "df = pd.DataFrame(data, columns=[\"glu\", \"bp\", \"skin\", \"bmi\"]).drop(0).replace(\"NA\", np.nan)\n",
    "df.head()"
   ]
  },
  {
   "cell_type": "code",
   "execution_count": 79,
   "metadata": {},
   "outputs": [],
   "source": [
    "# 事前分布のパラメータ\n",
    "n = df.shape[0]\n",
    "p = df.shape[1]\n",
    "\n",
    "mu0 = np.array([120, 64, 26, 26]) # 事前平均\n",
    "sd0 = mu0 / 2\n",
    "\n",
    "L0 = np.ones((p, p)) * 0.1\n",
    "for i in range(len(L0)):\n",
    "    L0[i][i] = 1\n",
    "L0 = np.outer(sd0, sd0) * L0\n",
    "nu0 = p+2\n",
    "S0 = L0\n",
    "\n",
    "# 初期値\n",
    "sigma = S0\n",
    "Y_full = df.copy()\n",
    "O = Y_full.isna().to_numpy() * 1\n"
   ]
  },
  {
   "cell_type": "code",
   "execution_count": null,
   "metadata": {},
   "outputs": [],
   "source": []
  }
 ],
 "metadata": {
  "kernelspec": {
   "display_name": "Python 3",
   "language": "python",
   "name": "python3"
  },
  "language_info": {
   "codemirror_mode": {
    "name": "ipython",
    "version": 3
   },
   "file_extension": ".py",
   "mimetype": "text/x-python",
   "name": "python",
   "nbconvert_exporter": "python",
   "pygments_lexer": "ipython3",
   "version": "3.7.3"
  }
 },
 "nbformat": 4,
 "nbformat_minor": 4
}
