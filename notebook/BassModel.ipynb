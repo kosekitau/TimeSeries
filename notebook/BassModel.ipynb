{
  "nbformat": 4,
  "nbformat_minor": 0,
  "metadata": {
    "colab": {
      "provenance": []
    },
    "kernelspec": {
      "name": "python3",
      "display_name": "Python 3"
    },
    "language_info": {
      "name": "python"
    }
  },
  "cells": [
    {
      "cell_type": "code",
      "execution_count": null,
      "metadata": {
        "colab": {
          "base_uri": "https://localhost:8080/"
        },
        "id": "1PA9DVlPwaF2",
        "outputId": "6bc60683-9c90-4c14-d5d8-724bbf43d685"
      },
      "outputs": [
        {
          "output_type": "stream",
          "name": "stdout",
          "text": [
            "Collecting japanize-matplotlib\n",
            "  Downloading japanize-matplotlib-1.1.3.tar.gz (4.1 MB)\n",
            "\u001b[2K     \u001b[90m━━━━━━━━━━━━━━━━━━━━━━━━━━━━━━━━━━━━━━━━\u001b[0m \u001b[32m4.1/4.1 MB\u001b[0m \u001b[31m13.7 MB/s\u001b[0m eta \u001b[36m0:00:00\u001b[0m\n",
            "\u001b[?25h  Preparing metadata (setup.py) ... \u001b[?25l\u001b[?25hdone\n",
            "Requirement already satisfied: matplotlib in /usr/local/lib/python3.10/dist-packages (from japanize-matplotlib) (3.7.1)\n",
            "Requirement already satisfied: contourpy>=1.0.1 in /usr/local/lib/python3.10/dist-packages (from matplotlib->japanize-matplotlib) (1.2.1)\n",
            "Requirement already satisfied: cycler>=0.10 in /usr/local/lib/python3.10/dist-packages (from matplotlib->japanize-matplotlib) (0.12.1)\n",
            "Requirement already satisfied: fonttools>=4.22.0 in /usr/local/lib/python3.10/dist-packages (from matplotlib->japanize-matplotlib) (4.53.1)\n",
            "Requirement already satisfied: kiwisolver>=1.0.1 in /usr/local/lib/python3.10/dist-packages (from matplotlib->japanize-matplotlib) (1.4.5)\n",
            "Requirement already satisfied: numpy>=1.20 in /usr/local/lib/python3.10/dist-packages (from matplotlib->japanize-matplotlib) (1.25.2)\n",
            "Requirement already satisfied: packaging>=20.0 in /usr/local/lib/python3.10/dist-packages (from matplotlib->japanize-matplotlib) (24.1)\n",
            "Requirement already satisfied: pillow>=6.2.0 in /usr/local/lib/python3.10/dist-packages (from matplotlib->japanize-matplotlib) (9.4.0)\n",
            "Requirement already satisfied: pyparsing>=2.3.1 in /usr/local/lib/python3.10/dist-packages (from matplotlib->japanize-matplotlib) (3.1.2)\n",
            "Requirement already satisfied: python-dateutil>=2.7 in /usr/local/lib/python3.10/dist-packages (from matplotlib->japanize-matplotlib) (2.8.2)\n",
            "Requirement already satisfied: six>=1.5 in /usr/local/lib/python3.10/dist-packages (from python-dateutil>=2.7->matplotlib->japanize-matplotlib) (1.16.0)\n",
            "Building wheels for collected packages: japanize-matplotlib\n",
            "  Building wheel for japanize-matplotlib (setup.py) ... \u001b[?25l\u001b[?25hdone\n",
            "  Created wheel for japanize-matplotlib: filename=japanize_matplotlib-1.1.3-py3-none-any.whl size=4120257 sha256=c22dd36607360943a7b51e26b39c08bc18b5368ad8eee7eb51e1fec6c9958050\n",
            "  Stored in directory: /root/.cache/pip/wheels/61/7a/6b/df1f79be9c59862525070e157e62b08eab8ece27c1b68fbb94\n",
            "Successfully built japanize-matplotlib\n",
            "Installing collected packages: japanize-matplotlib\n",
            "Successfully installed japanize-matplotlib-1.1.3\n"
          ]
        }
      ],
      "source": [
        "!pip install japanize-matplotlib\n",
        "import numpy as np\n",
        "import polars as pl\n",
        "import matplotlib.pyplot as plt\n",
        "import seaborn as sns\n",
        "import japanize_matplotlib\n",
        "import statsmodels.api as sm"
      ]
    },
    {
      "cell_type": "code",
      "source": [
        "df = pl.read_csv('/content/drive/MyDrive/study/modern_marketing_research/9/Bass.txt', separator=',')\n",
        "print(df.shape)\n",
        "df.head()"
      ],
      "metadata": {
        "colab": {
          "base_uri": "https://localhost:8080/",
          "height": 273
        },
        "id": "XH4_KHDLxH3o",
        "outputId": "da356af7-038c-4053-b1a6-c0f45a3ebd66"
      },
      "execution_count": null,
      "outputs": [
        {
          "output_type": "stream",
          "name": "stdout",
          "text": [
            "(15, 5)\n"
          ]
        },
        {
          "output_type": "execute_result",
          "data": {
            "text/plain": [
              "shape: (5, 5)\n",
              "┌──────┬──────────┬──────────────┬────────────────────┬──────────────────────────┐\n",
              "│ 時点 ┆ 購買者数 ┆ 累積購買者数 ┆ 一期前累積購買者数 ┆ 一期前累積購買者数の二乗 │\n",
              "│ ---  ┆ ---      ┆ ---          ┆ ---                ┆ ---                      │\n",
              "│ i64  ┆ i64      ┆ i64          ┆ i64                ┆ i64                      │\n",
              "╞══════╪══════════╪══════════════╪════════════════════╪══════════════════════════╡\n",
              "│ 1    ┆ 4998     ┆ 4998         ┆ 0                  ┆ 0                        │\n",
              "│ 2    ┆ 5398     ┆ 10396        ┆ 4998               ┆ 24980004                 │\n",
              "│ 3    ┆ 5611     ┆ 16007        ┆ 10396              ┆ 108076816                │\n",
              "│ 4    ┆ 5574     ┆ 21581        ┆ 16007              ┆ 256224049                │\n",
              "│ 5    ┆ 5292     ┆ 26873        ┆ 21581              ┆ 465739561                │\n",
              "└──────┴──────────┴──────────────┴────────────────────┴──────────────────────────┘"
            ],
            "text/html": [
              "<div><style>\n",
              ".dataframe > thead > tr,\n",
              ".dataframe > tbody > tr {\n",
              "  text-align: right;\n",
              "  white-space: pre-wrap;\n",
              "}\n",
              "</style>\n",
              "<small>shape: (5, 5)</small><table border=\"1\" class=\"dataframe\"><thead><tr><th>時点</th><th>購買者数</th><th>累積購買者数</th><th>一期前累積購買者数</th><th>一期前累積購買者数の二乗</th></tr><tr><td>i64</td><td>i64</td><td>i64</td><td>i64</td><td>i64</td></tr></thead><tbody><tr><td>1</td><td>4998</td><td>4998</td><td>0</td><td>0</td></tr><tr><td>2</td><td>5398</td><td>10396</td><td>4998</td><td>24980004</td></tr><tr><td>3</td><td>5611</td><td>16007</td><td>10396</td><td>108076816</td></tr><tr><td>4</td><td>5574</td><td>21581</td><td>16007</td><td>256224049</td></tr><tr><td>5</td><td>5292</td><td>26873</td><td>21581</td><td>465739561</td></tr></tbody></table></div>"
            ]
          },
          "metadata": {},
          "execution_count": 4
        }
      ]
    },
    {
      "cell_type": "code",
      "source": [
        "X = df[['一期前累積購買者数', '一期前累積購買者数の二乗']]\n",
        "X = sm.add_constant(X)\n",
        "y = df['購買者数'].to_numpy()\n",
        "X_train, X_val = X[:10, :], X[10:, :]\n",
        "y_train, y_val = y[:10], y[10:]\n",
        "model = sm.OLS(y_train, X_train)\n",
        "results = model.fit()\n",
        "results.summary()"
      ],
      "metadata": {
        "colab": {
          "base_uri": "https://localhost:8080/",
          "height": 543
        },
        "id": "9MJawrTXxW7C",
        "outputId": "fd7e72ba-7802-4ae9-9005-743c5e8c5107"
      },
      "execution_count": null,
      "outputs": [
        {
          "output_type": "stream",
          "name": "stderr",
          "text": [
            "/usr/local/lib/python3.10/dist-packages/scipy/stats/_stats_py.py:1806: UserWarning: kurtosistest only valid for n>=20 ... continuing anyway, n=10\n",
            "  warnings.warn(\"kurtosistest only valid for n>=20 ... continuing \"\n"
          ]
        },
        {
          "output_type": "execute_result",
          "data": {
            "text/plain": [
              "<class 'statsmodels.iolib.summary.Summary'>\n",
              "\"\"\"\n",
              "                            OLS Regression Results                            \n",
              "==============================================================================\n",
              "Dep. Variable:                      y   R-squared:                       1.000\n",
              "Model:                            OLS   Adj. R-squared:                  1.000\n",
              "Method:                 Least Squares   F-statistic:                 7.471e+05\n",
              "Date:                Thu, 25 Jul 2024   Prob (F-statistic):           2.23e-19\n",
              "Time:                        12:16:18   Log-Likelihood:                -23.560\n",
              "No. Observations:                  10   AIC:                             53.12\n",
              "Df Residuals:                       7   BIC:                             54.03\n",
              "Df Model:                           2                                         \n",
              "Covariance Type:            nonrobust                                         \n",
              "==============================================================================\n",
              "                 coef    std err          t      P>|t|      [0.025      0.975]\n",
              "------------------------------------------------------------------------------\n",
              "const       4999.6345      2.453   2038.443      0.000    4993.835    5005.434\n",
              "x1             0.0998      0.000    368.709      0.000       0.099       0.100\n",
              "x2         -3.994e-06    6.1e-09   -654.258      0.000   -4.01e-06   -3.98e-06\n",
              "==============================================================================\n",
              "Omnibus:                        0.913   Durbin-Watson:                   2.410\n",
              "Prob(Omnibus):                  0.634   Jarque-Bera (JB):                0.034\n",
              "Skew:                           0.142   Prob(JB):                        0.983\n",
              "Kurtosis:                       3.049   Cond. No.                     2.41e+09\n",
              "==============================================================================\n",
              "\n",
              "Notes:\n",
              "[1] Standard Errors assume that the covariance matrix of the errors is correctly specified.\n",
              "[2] The condition number is large, 2.41e+09. This might indicate that there are\n",
              "strong multicollinearity or other numerical problems.\n",
              "\"\"\""
            ],
            "text/html": [
              "<table class=\"simpletable\">\n",
              "<caption>OLS Regression Results</caption>\n",
              "<tr>\n",
              "  <th>Dep. Variable:</th>            <td>y</td>        <th>  R-squared:         </th> <td>   1.000</td> \n",
              "</tr>\n",
              "<tr>\n",
              "  <th>Model:</th>                   <td>OLS</td>       <th>  Adj. R-squared:    </th> <td>   1.000</td> \n",
              "</tr>\n",
              "<tr>\n",
              "  <th>Method:</th>             <td>Least Squares</td>  <th>  F-statistic:       </th> <td>7.471e+05</td>\n",
              "</tr>\n",
              "<tr>\n",
              "  <th>Date:</th>             <td>Thu, 25 Jul 2024</td> <th>  Prob (F-statistic):</th> <td>2.23e-19</td> \n",
              "</tr>\n",
              "<tr>\n",
              "  <th>Time:</th>                 <td>12:16:18</td>     <th>  Log-Likelihood:    </th> <td> -23.560</td> \n",
              "</tr>\n",
              "<tr>\n",
              "  <th>No. Observations:</th>      <td>    10</td>      <th>  AIC:               </th> <td>   53.12</td> \n",
              "</tr>\n",
              "<tr>\n",
              "  <th>Df Residuals:</th>          <td>     7</td>      <th>  BIC:               </th> <td>   54.03</td> \n",
              "</tr>\n",
              "<tr>\n",
              "  <th>Df Model:</th>              <td>     2</td>      <th>                     </th>     <td> </td>    \n",
              "</tr>\n",
              "<tr>\n",
              "  <th>Covariance Type:</th>      <td>nonrobust</td>    <th>                     </th>     <td> </td>    \n",
              "</tr>\n",
              "</table>\n",
              "<table class=\"simpletable\">\n",
              "<tr>\n",
              "    <td></td>       <th>coef</th>     <th>std err</th>      <th>t</th>      <th>P>|t|</th>  <th>[0.025</th>    <th>0.975]</th>  \n",
              "</tr>\n",
              "<tr>\n",
              "  <th>const</th> <td> 4999.6345</td> <td>    2.453</td> <td> 2038.443</td> <td> 0.000</td> <td> 4993.835</td> <td> 5005.434</td>\n",
              "</tr>\n",
              "<tr>\n",
              "  <th>x1</th>    <td>    0.0998</td> <td>    0.000</td> <td>  368.709</td> <td> 0.000</td> <td>    0.099</td> <td>    0.100</td>\n",
              "</tr>\n",
              "<tr>\n",
              "  <th>x2</th>    <td>-3.994e-06</td> <td>  6.1e-09</td> <td> -654.258</td> <td> 0.000</td> <td>-4.01e-06</td> <td>-3.98e-06</td>\n",
              "</tr>\n",
              "</table>\n",
              "<table class=\"simpletable\">\n",
              "<tr>\n",
              "  <th>Omnibus:</th>       <td> 0.913</td> <th>  Durbin-Watson:     </th> <td>   2.410</td>\n",
              "</tr>\n",
              "<tr>\n",
              "  <th>Prob(Omnibus):</th> <td> 0.634</td> <th>  Jarque-Bera (JB):  </th> <td>   0.034</td>\n",
              "</tr>\n",
              "<tr>\n",
              "  <th>Skew:</th>          <td> 0.142</td> <th>  Prob(JB):          </th> <td>   0.983</td>\n",
              "</tr>\n",
              "<tr>\n",
              "  <th>Kurtosis:</th>      <td> 3.049</td> <th>  Cond. No.          </th> <td>2.41e+09</td>\n",
              "</tr>\n",
              "</table><br/><br/>Notes:<br/>[1] Standard Errors assume that the covariance matrix of the errors is correctly specified.<br/>[2] The condition number is large, 2.41e+09. This might indicate that there are<br/>strong multicollinearity or other numerical problems."
            ],
            "text/latex": "\\begin{center}\n\\begin{tabular}{lclc}\n\\toprule\n\\textbf{Dep. Variable:}    &        y         & \\textbf{  R-squared:         } &     1.000   \\\\\n\\textbf{Model:}            &       OLS        & \\textbf{  Adj. R-squared:    } &     1.000   \\\\\n\\textbf{Method:}           &  Least Squares   & \\textbf{  F-statistic:       } & 7.471e+05   \\\\\n\\textbf{Date:}             & Thu, 25 Jul 2024 & \\textbf{  Prob (F-statistic):} &  2.23e-19   \\\\\n\\textbf{Time:}             &     12:16:18     & \\textbf{  Log-Likelihood:    } &   -23.560   \\\\\n\\textbf{No. Observations:} &          10      & \\textbf{  AIC:               } &     53.12   \\\\\n\\textbf{Df Residuals:}     &           7      & \\textbf{  BIC:               } &     54.03   \\\\\n\\textbf{Df Model:}         &           2      & \\textbf{                     } &             \\\\\n\\textbf{Covariance Type:}  &    nonrobust     & \\textbf{                     } &             \\\\\n\\bottomrule\n\\end{tabular}\n\\begin{tabular}{lcccccc}\n               & \\textbf{coef} & \\textbf{std err} & \\textbf{t} & \\textbf{P$> |$t$|$} & \\textbf{[0.025} & \\textbf{0.975]}  \\\\\n\\midrule\n\\textbf{const} &    4999.6345  &        2.453     &  2038.443  &         0.000        &     4993.835    &     5005.434     \\\\\n\\textbf{x1}    &       0.0998  &        0.000     &   368.709  &         0.000        &        0.099    &        0.100     \\\\\n\\textbf{x2}    &   -3.994e-06  &      6.1e-09     &  -654.258  &         0.000        &    -4.01e-06    &    -3.98e-06     \\\\\n\\bottomrule\n\\end{tabular}\n\\begin{tabular}{lclc}\n\\textbf{Omnibus:}       &  0.913 & \\textbf{  Durbin-Watson:     } &    2.410  \\\\\n\\textbf{Prob(Omnibus):} &  0.634 & \\textbf{  Jarque-Bera (JB):  } &    0.034  \\\\\n\\textbf{Skew:}          &  0.142 & \\textbf{  Prob(JB):          } &    0.983  \\\\\n\\textbf{Kurtosis:}      &  3.049 & \\textbf{  Cond. No.          } & 2.41e+09  \\\\\n\\bottomrule\n\\end{tabular}\n%\\caption{OLS Regression Results}\n\\end{center}\n\nNotes: \\newline\n [1] Standard Errors assume that the covariance matrix of the errors is correctly specified. \\newline\n [2] The condition number is large, 2.41e+09. This might indicate that there are \\newline\n strong multicollinearity or other numerical problems."
          },
          "metadata": {},
          "execution_count": 18
        }
      ]
    },
    {
      "cell_type": "code",
      "source": [
        "def transform(a, b, c):\n",
        "    m = (-b-np.sqrt(b*b - 4*a*c))/(2*c)\n",
        "    p = a/m\n",
        "    q = p + b\n",
        "    return m, p, q\n",
        "\n",
        "a, b, c = results.params\n",
        "print(a,b,c)\n",
        "transform(a, b, c)"
      ],
      "metadata": {
        "colab": {
          "base_uri": "https://localhost:8080/"
        },
        "id": "5szm45HeyJzt",
        "outputId": "3233c5e8-625d-47d1-9dba-6266348fa2a2"
      },
      "execution_count": null,
      "outputs": [
        {
          "output_type": "stream",
          "name": "stdout",
          "text": [
            "4999.634547558433 0.09983040504598784 -3.993729564987342e-06\n"
          ]
        },
        {
          "output_type": "execute_result",
          "data": {
            "text/plain": [
              "(50022.797468062716, 0.09994712012558819, 0.19977752517157604)"
            ]
          },
          "metadata": {},
          "execution_count": 23
        }
      ]
    },
    {
      "cell_type": "code",
      "source": [
        "y_pred = model.predict(params=results.params, exog=X_val)\n",
        "fig, ax = plt.subplots()\n",
        "sns.lineplot(x=np.arange(10), y=y_train, ax=ax)\n",
        "sns.lineplot(x=np.arange(10, 15), y=y_val, ax=ax, label='y_val')\n",
        "sns.lineplot(x=np.arange(10, 15), y=y_pred, ax=ax, label='y_pred')\n",
        "plt.show()"
      ],
      "metadata": {
        "colab": {
          "base_uri": "https://localhost:8080/",
          "height": 429
        },
        "id": "DNXSmeQ7zc3I",
        "outputId": "6248d13e-970a-4376-f9b3-7f23cae0c915"
      },
      "execution_count": null,
      "outputs": [
        {
          "output_type": "display_data",
          "data": {
            "text/plain": [
              "<Figure size 640x480 with 1 Axes>"
            ],
            "image/png": "[encoded data removed]"
          },
          "metadata": {}
        }
      ]
    },
    {
      "cell_type": "code",
      "source": [],
      "metadata": {
        "id": "C_ZTUzC-1biW"
      },
      "execution_count": null,
      "outputs": []
    }
  ]
}