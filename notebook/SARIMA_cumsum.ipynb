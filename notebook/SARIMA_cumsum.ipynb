{
  "nbformat": 4,
  "nbformat_minor": 0,
  "metadata": {
    "colab": {
      "provenance": []
    },
    "kernelspec": {
      "name": "python3",
      "display_name": "Python 3"
    },
    "language_info": {
      "name": "python"
    }
  },
  "cells": [
    {
      "cell_type": "markdown",
      "source": [
        "特定期間の予測値の総量を知りたい時の95%信頼区間をシミュレーションで求められないか"
      ],
      "metadata": {
        "id": "nXQAlpB3MNuP"
      }
    },
    {
      "cell_type": "code",
      "execution_count": 1,
      "metadata": {
        "id": "EcWH6WIEMJgw"
      },
      "outputs": [],
      "source": [
        "import numpy as np\n",
        "import pandas as pd\n",
        "import matplotlib.pyplot as plt\n",
        "import seaborn as sns\n",
        "import statsmodels.api as sm\n",
        "from statsmodels.tsa.statespace.sarimax import SARIMAX\n",
        "from scipy.stats import t\n",
        "\n",
        "pd.options.display.float_format = '{:.5f}'.format"
      ]
    },
    {
      "cell_type": "code",
      "source": [
        "dataset = sm.datasets.get_rdataset('AirPassengers')\n",
        "df = dataset.data['value'].to_frame(name=\"target\")\n",
        "display(df.head())\n",
        "\n",
        "fig, ax = plt.subplots()\n",
        "sns.lineplot(df, marker='.')\n",
        "plt.show()\n",
        "\n",
        "df_train = df.iloc[:-10]\n",
        "df_test = df.iloc[-10:]"
      ],
      "metadata": {
        "colab": {
          "base_uri": "https://localhost:8080/",
          "height": 619
        },
        "id": "RyS207hiOFlN",
        "outputId": "64aab1dc-b3a8-4cf3-cb63-e77f7bb8d8c0"
      },
      "execution_count": 2,
      "outputs": [
        {
          "output_type": "display_data",
          "data": {
            "text/plain": [
              "   target\n",
              "0     112\n",
              "1     118\n",
              "2     132\n",
              "3     129\n",
              "4     121"
            ],
            "text/html": [
              "\n",
              "  <div id=\"df-2abdfe7b-703f-4dbc-8a97-a2614411078e\" class=\"colab-df-container\">\n",
              "    <div>\n",
              "<style scoped>\n",
              "    .dataframe tbody tr th:only-of-type {\n",
              "        vertical-align: middle;\n",
              "    }\n",
              "\n",
              "    .dataframe tbody tr th {\n",
              "        vertical-align: top;\n",
              "    }\n",
              "\n",
              "    .dataframe thead th {\n",
              "        text-align: right;\n",
              "    }\n",
              "</style>\n",
              "<table border=\"1\" class=\"dataframe\">\n",
              "  <thead>\n",
              "    <tr style=\"text-align: right;\">\n",
              "      <th></th>\n",
              "      <th>target</th>\n",
              "    </tr>\n",
              "  </thead>\n",
              "  <tbody>\n",
              "    <tr>\n",
              "      <th>0</th>\n",
              "      <td>112</td>\n",
              "    </tr>\n",
              "    <tr>\n",
              "      <th>1</th>\n",
              "      <td>118</td>\n",
              "    </tr>\n",
              "    <tr>\n",
              "      <th>2</th>\n",
              "      <td>132</td>\n",
              "    </tr>\n",
              "    <tr>\n",
              "      <th>3</th>\n",
              "      <td>129</td>\n",
              "    </tr>\n",
              "    <tr>\n",
              "      <th>4</th>\n",
              "      <td>121</td>\n",
              "    </tr>\n",
              "  </tbody>\n",
              "</table>\n",
              "</div>\n",
              "    <div class=\"colab-df-buttons\">\n",
              "\n",
              "  <div class=\"colab-df-container\">\n",
              "    <button class=\"colab-df-convert\" onclick=\"convertToInteractive('df-2abdfe7b-703f-4dbc-8a97-a2614411078e')\"\n",
              "            title=\"Convert this dataframe to an interactive table.\"\n",
              "            style=\"display:none;\">\n",
              "\n",
              "  <svg xmlns=\"http://www.w3.org/2000/svg\" height=\"24px\" viewBox=\"0 -960 960 960\">\n",
              "    <path d=\"M120-120v-720h720v720H120Zm60-500h600v-160H180v160Zm220 220h160v-160H400v160Zm0 220h160v-160H400v160ZM180-400h160v-160H180v160Zm440 0h160v-160H620v160ZM180-180h160v-160H180v160Zm440 0h160v-160H620v160Z\"/>\n",
              "  </svg>\n",
              "    </button>\n",
              "\n",
              "  <style>\n",
              "    .colab-df-container {\n",
              "      display:flex;\n",
              "      gap: 12px;\n",
              "    }\n",
              "\n",
              "    .colab-df-convert {\n",
              "      background-color: #E8F0FE;\n",
              "      border: none;\n",
              "      border-radius: 50%;\n",
              "      cursor: pointer;\n",
              "      display: none;\n",
              "      fill: #1967D2;\n",
              "      height: 32px;\n",
              "      padding: 0 0 0 0;\n",
              "      width: 32px;\n",
              "    }\n",
              "\n",
              "    .colab-df-convert:hover {\n",
              "      background-color: #E2EBFA;\n",
              "      box-shadow: 0px 1px 2px rgba(60, 64, 67, 0.3), 0px 1px 3px 1px rgba(60, 64, 67, 0.15);\n",
              "      fill: #174EA6;\n",
              "    }\n",
              "\n",
              "    .colab-df-buttons div {\n",
              "      margin-bottom: 4px;\n",
              "    }\n",
              "\n",
              "    [theme=dark] .colab-df-convert {\n",
              "      background-color: #3B4455;\n",
              "      fill: #D2E3FC;\n",
              "    }\n",
              "\n",
              "    [theme=dark] .colab-df-convert:hover {\n",
              "      background-color: #434B5C;\n",
              "      box-shadow: 0px 1px 3px 1px rgba(0, 0, 0, 0.15);\n",
              "      filter: drop-shadow(0px 1px 2px rgba(0, 0, 0, 0.3));\n",
              "      fill: #FFFFFF;\n",
              "    }\n",
              "  </style>\n",
              "\n",
              "    <script>\n",
              "      const buttonEl =\n",
              "        document.querySelector('#df-2abdfe7b-703f-4dbc-8a97-a2614411078e button.colab-df-convert');\n",
              "      buttonEl.style.display =\n",
              "        google.colab.kernel.accessAllowed ? 'block' : 'none';\n",
              "\n",
              "      async function convertToInteractive(key) {\n",
              "        const element = document.querySelector('#df-2abdfe7b-703f-4dbc-8a97-a2614411078e');\n",
              "        const dataTable =\n",
              "          await google.colab.kernel.invokeFunction('convertToInteractive',\n",
              "                                                    [key], {});\n",
              "        if (!dataTable) return;\n",
              "\n",
              "        const docLinkHtml = 'Like what you see? Visit the ' +\n",
              "          '<a target=\"_blank\" href=https://colab.research.google.com/notebooks/data_table.ipynb>data table notebook</a>'\n",
              "          + ' to learn more about interactive tables.';\n",
              "        element.innerHTML = '';\n",
              "        dataTable['output_type'] = 'display_data';\n",
              "        await google.colab.output.renderOutput(dataTable, element);\n",
              "        const docLink = document.createElement('div');\n",
              "        docLink.innerHTML = docLinkHtml;\n",
              "        element.appendChild(docLink);\n",
              "      }\n",
              "    </script>\n",
              "  </div>\n",
              "\n",
              "\n",
              "<div id=\"df-19884e59-60d6-46dc-9d07-40878eec7e53\">\n",
              "  <button class=\"colab-df-quickchart\" onclick=\"quickchart('df-19884e59-60d6-46dc-9d07-40878eec7e53')\"\n",
              "            title=\"Suggest charts\"\n",
              "            style=\"display:none;\">\n",
              "\n",
              "<svg xmlns=\"http://www.w3.org/2000/svg\" height=\"24px\"viewBox=\"0 0 24 24\"\n",
              "     width=\"24px\">\n",
              "    <g>\n",
              "        <path d=\"M19 3H5c-1.1 0-2 .9-2 2v14c0 1.1.9 2 2 2h14c1.1 0 2-.9 2-2V5c0-1.1-.9-2-2-2zM9 17H7v-7h2v7zm4 0h-2V7h2v10zm4 0h-2v-4h2v4z\"/>\n",
              "    </g>\n",
              "</svg>\n",
              "  </button>\n",
              "\n",
              "<style>\n",
              "  .colab-df-quickchart {\n",
              "      --bg-color: #E8F0FE;\n",
              "      --fill-color: #1967D2;\n",
              "      --hover-bg-color: #E2EBFA;\n",
              "      --hover-fill-color: #174EA6;\n",
              "      --disabled-fill-color: #AAA;\n",
              "      --disabled-bg-color: #DDD;\n",
              "  }\n",
              "\n",
              "  [theme=dark] .colab-df-quickchart {\n",
              "      --bg-color: #3B4455;\n",
              "      --fill-color: #D2E3FC;\n",
              "      --hover-bg-color: #434B5C;\n",
              "      --hover-fill-color: #FFFFFF;\n",
              "      --disabled-bg-color: #3B4455;\n",
              "      --disabled-fill-color: #666;\n",
              "  }\n",
              "\n",
              "  .colab-df-quickchart {\n",
              "    background-color: var(--bg-color);\n",
              "    border: none;\n",
              "    border-radius: 50%;\n",
              "    cursor: pointer;\n",
              "    display: none;\n",
              "    fill: var(--fill-color);\n",
              "    height: 32px;\n",
              "    padding: 0;\n",
              "    width: 32px;\n",
              "  }\n",
              "\n",
              "  .colab-df-quickchart:hover {\n",
              "    background-color: var(--hover-bg-color);\n",
              "    box-shadow: 0 1px 2px rgba(60, 64, 67, 0.3), 0 1px 3px 1px rgba(60, 64, 67, 0.15);\n",
              "    fill: var(--button-hover-fill-color);\n",
              "  }\n",
              "\n",
              "  .colab-df-quickchart-complete:disabled,\n",
              "  .colab-df-quickchart-complete:disabled:hover {\n",
              "    background-color: var(--disabled-bg-color);\n",
              "    fill: var(--disabled-fill-color);\n",
              "    box-shadow: none;\n",
              "  }\n",
              "\n",
              "  .colab-df-spinner {\n",
              "    border: 2px solid var(--fill-color);\n",
              "    border-color: transparent;\n",
              "    border-bottom-color: var(--fill-color);\n",
              "    animation:\n",
              "      spin 1s steps(1) infinite;\n",
              "  }\n",
              "\n",
              "  @keyframes spin {\n",
              "    0% {\n",
              "      border-color: transparent;\n",
              "      border-bottom-color: var(--fill-color);\n",
              "      border-left-color: var(--fill-color);\n",
              "    }\n",
              "    20% {\n",
              "      border-color: transparent;\n",
              "      border-left-color: var(--fill-color);\n",
              "      border-top-color: var(--fill-color);\n",
              "    }\n",
              "    30% {\n",
              "      border-color: transparent;\n",
              "      border-left-color: var(--fill-color);\n",
              "      border-top-color: var(--fill-color);\n",
              "      border-right-color: var(--fill-color);\n",
              "    }\n",
              "    40% {\n",
              "      border-color: transparent;\n",
              "      border-right-color: var(--fill-color);\n",
              "      border-top-color: var(--fill-color);\n",
              "    }\n",
              "    60% {\n",
              "      border-color: transparent;\n",
              "      border-right-color: var(--fill-color);\n",
              "    }\n",
              "    80% {\n",
              "      border-color: transparent;\n",
              "      border-right-color: var(--fill-color);\n",
              "      border-bottom-color: var(--fill-color);\n",
              "    }\n",
              "    90% {\n",
              "      border-color: transparent;\n",
              "      border-bottom-color: var(--fill-color);\n",
              "    }\n",
              "  }\n",
              "</style>\n",
              "\n",
              "  <script>\n",
              "    async function quickchart(key) {\n",
              "      const quickchartButtonEl =\n",
              "        document.querySelector('#' + key + ' button');\n",
              "      quickchartButtonEl.disabled = true;  // To prevent multiple clicks.\n",
              "      quickchartButtonEl.classList.add('colab-df-spinner');\n",
              "      try {\n",
              "        const charts = await google.colab.kernel.invokeFunction(\n",
              "            'suggestCharts', [key], {});\n",
              "      } catch (error) {\n",
              "        console.error('Error during call to suggestCharts:', error);\n",
              "      }\n",
              "      quickchartButtonEl.classList.remove('colab-df-spinner');\n",
              "      quickchartButtonEl.classList.add('colab-df-quickchart-complete');\n",
              "    }\n",
              "    (() => {\n",
              "      let quickchartButtonEl =\n",
              "        document.querySelector('#df-19884e59-60d6-46dc-9d07-40878eec7e53 button');\n",
              "      quickchartButtonEl.style.display =\n",
              "        google.colab.kernel.accessAllowed ? 'block' : 'none';\n",
              "    })();\n",
              "  </script>\n",
              "</div>\n",
              "\n",
              "    </div>\n",
              "  </div>\n"
            ],
            "application/vnd.google.colaboratory.intrinsic+json": {
              "type": "dataframe",
              "summary": "{\n  \"name\": \"df_test = df\",\n  \"rows\": 5,\n  \"fields\": [\n    {\n      \"column\": \"target\",\n      \"properties\": {\n        \"dtype\": \"number\",\n        \"std\": 8,\n        \"min\": 112,\n        \"max\": 132,\n        \"num_unique_values\": 5,\n        \"samples\": [\n          118,\n          121,\n          132\n        ],\n        \"semantic_type\": \"\",\n        \"description\": \"\"\n      }\n    }\n  ]\n}"
            }
          },
          "metadata": {}
        },
        {
          "output_type": "display_data",
          "data": {
            "text/plain": [
              "<Figure size 640x480 with 1 Axes>"
            ],
            "image/png": "[encoded data removed]"
          },
          "metadata": {}
        }
      ]
    },
    {
      "cell_type": "markdown",
      "source": [
        "モデリング"
      ],
      "metadata": {
        "id": "3d8fQm4A3xw9"
      }
    },
    {
      "cell_type": "code",
      "source": [
        "# p=1, d=0, q=1, P=1, D=0, Q=1で考える\n",
        "results = SARIMAX(df_train[\"target\"], order=(1,0,1), seasonal_order=(1,0,1,12),\n",
        "                            enforce_stationarity = False, enforce_invertibility = False\n",
        "                           ).fit()"
      ],
      "metadata": {
        "id": "dp0HV0P6OIzS"
      },
      "execution_count": 3,
      "outputs": []
    },
    {
      "cell_type": "code",
      "source": [
        "results.summary()"
      ],
      "metadata": {
        "colab": {
          "base_uri": "https://localhost:8080/",
          "height": 473
        },
        "id": "l2AL1jqkPzCG",
        "outputId": "98a55814-fc4e-4060-90cf-90f70042be88"
      },
      "execution_count": 4,
      "outputs": [
        {
          "output_type": "execute_result",
          "data": {
            "text/plain": [
              "<class 'statsmodels.iolib.summary.Summary'>\n",
              "\"\"\"\n",
              "                                     SARIMAX Results                                      \n",
              "==========================================================================================\n",
              "Dep. Variable:                             target   No. Observations:                  134\n",
              "Model:             SARIMAX(1, 0, 1)x(1, 0, 1, 12)   Log Likelihood                -435.404\n",
              "Date:                            Thu, 07 Mar 2024   AIC                            880.807\n",
              "Time:                                    10:32:06   BIC                            894.745\n",
              "Sample:                                         0   HQIC                           886.467\n",
              "                                            - 134                                         \n",
              "Covariance Type:                              opg                                         \n",
              "==============================================================================\n",
              "                 coef    std err          z      P>|z|      [0.025      0.975]\n",
              "------------------------------------------------------------------------------\n",
              "ar.L1          0.9154      0.052     17.575      0.000       0.813       1.017\n",
              "ma.L1         -0.2901      0.084     -3.463      0.001      -0.454      -0.126\n",
              "ar.S.L12       1.1267      0.011    105.153      0.000       1.106       1.148\n",
              "ma.S.L12      -0.4638      0.114     -4.061      0.000      -0.688      -0.240\n",
              "sigma2        80.9550     10.266      7.886      0.000      60.835     101.075\n",
              "===================================================================================\n",
              "Ljung-Box (L1) (Q):                   0.11   Jarque-Bera (JB):                 9.32\n",
              "Prob(Q):                              0.74   Prob(JB):                         0.01\n",
              "Heteroskedasticity (H):               1.49   Skew:                            -0.40\n",
              "Prob(H) (two-sided):                  0.21   Kurtosis:                         4.11\n",
              "===================================================================================\n",
              "\n",
              "Warnings:\n",
              "[1] Covariance matrix calculated using the outer product of gradients (complex-step).\n",
              "\"\"\""
            ],
            "text/html": [
              "<table class=\"simpletable\">\n",
              "<caption>SARIMAX Results</caption>\n",
              "<tr>\n",
              "  <th>Dep. Variable:</th>               <td>target</td>             <th>  No. Observations:  </th>    <td>134</td>  \n",
              "</tr>\n",
              "<tr>\n",
              "  <th>Model:</th>           <td>SARIMAX(1, 0, 1)x(1, 0, 1, 12)</td> <th>  Log Likelihood     </th> <td>-435.404</td>\n",
              "</tr>\n",
              "<tr>\n",
              "  <th>Date:</th>                   <td>Thu, 07 Mar 2024</td>        <th>  AIC                </th>  <td>880.807</td>\n",
              "</tr>\n",
              "<tr>\n",
              "  <th>Time:</th>                       <td>10:32:06</td>            <th>  BIC                </th>  <td>894.745</td>\n",
              "</tr>\n",
              "<tr>\n",
              "  <th>Sample:</th>                         <td>0</td>               <th>  HQIC               </th>  <td>886.467</td>\n",
              "</tr>\n",
              "<tr>\n",
              "  <th></th>                             <td> - 134</td>             <th>                     </th>     <td> </td>   \n",
              "</tr>\n",
              "<tr>\n",
              "  <th>Covariance Type:</th>               <td>opg</td>              <th>                     </th>     <td> </td>   \n",
              "</tr>\n",
              "</table>\n",
              "<table class=\"simpletable\">\n",
              "<tr>\n",
              "      <td></td>        <th>coef</th>     <th>std err</th>      <th>z</th>      <th>P>|z|</th>  <th>[0.025</th>    <th>0.975]</th>  \n",
              "</tr>\n",
              "<tr>\n",
              "  <th>ar.L1</th>    <td>    0.9154</td> <td>    0.052</td> <td>   17.575</td> <td> 0.000</td> <td>    0.813</td> <td>    1.017</td>\n",
              "</tr>\n",
              "<tr>\n",
              "  <th>ma.L1</th>    <td>   -0.2901</td> <td>    0.084</td> <td>   -3.463</td> <td> 0.001</td> <td>   -0.454</td> <td>   -0.126</td>\n",
              "</tr>\n",
              "<tr>\n",
              "  <th>ar.S.L12</th> <td>    1.1267</td> <td>    0.011</td> <td>  105.153</td> <td> 0.000</td> <td>    1.106</td> <td>    1.148</td>\n",
              "</tr>\n",
              "<tr>\n",
              "  <th>ma.S.L12</th> <td>   -0.4638</td> <td>    0.114</td> <td>   -4.061</td> <td> 0.000</td> <td>   -0.688</td> <td>   -0.240</td>\n",
              "</tr>\n",
              "<tr>\n",
              "  <th>sigma2</th>   <td>   80.9550</td> <td>   10.266</td> <td>    7.886</td> <td> 0.000</td> <td>   60.835</td> <td>  101.075</td>\n",
              "</tr>\n",
              "</table>\n",
              "<table class=\"simpletable\">\n",
              "<tr>\n",
              "  <th>Ljung-Box (L1) (Q):</th>     <td>0.11</td> <th>  Jarque-Bera (JB):  </th> <td>9.32</td> \n",
              "</tr>\n",
              "<tr>\n",
              "  <th>Prob(Q):</th>                <td>0.74</td> <th>  Prob(JB):          </th> <td>0.01</td> \n",
              "</tr>\n",
              "<tr>\n",
              "  <th>Heteroskedasticity (H):</th> <td>1.49</td> <th>  Skew:              </th> <td>-0.40</td>\n",
              "</tr>\n",
              "<tr>\n",
              "  <th>Prob(H) (two-sided):</th>    <td>0.21</td> <th>  Kurtosis:          </th> <td>4.11</td> \n",
              "</tr>\n",
              "</table><br/><br/>Warnings:<br/>[1] Covariance matrix calculated using the outer product of gradients (complex-step)."
            ],
            "text/latex": "\\begin{center}\n\\begin{tabular}{lclc}\n\\toprule\n\\textbf{Dep. Variable:}          &             target             & \\textbf{  No. Observations:  } &    134      \\\\\n\\textbf{Model:}                  & SARIMAX(1, 0, 1)x(1, 0, 1, 12) & \\textbf{  Log Likelihood     } &  -435.404   \\\\\n\\textbf{Date:}                   &        Thu, 07 Mar 2024        & \\textbf{  AIC                } &  880.807    \\\\\n\\textbf{Time:}                   &            10:32:06            & \\textbf{  BIC                } &  894.745    \\\\\n\\textbf{Sample:}                 &               0                & \\textbf{  HQIC               } &  886.467    \\\\\n\\textbf{}                        &              - 134             & \\textbf{                     } &             \\\\\n\\textbf{Covariance Type:}        &              opg               & \\textbf{                     } &             \\\\\n\\bottomrule\n\\end{tabular}\n\\begin{tabular}{lcccccc}\n                  & \\textbf{coef} & \\textbf{std err} & \\textbf{z} & \\textbf{P$> |$z$|$} & \\textbf{[0.025} & \\textbf{0.975]}  \\\\\n\\midrule\n\\textbf{ar.L1}    &       0.9154  &        0.052     &    17.575  &         0.000        &        0.813    &        1.017     \\\\\n\\textbf{ma.L1}    &      -0.2901  &        0.084     &    -3.463  &         0.001        &       -0.454    &       -0.126     \\\\\n\\textbf{ar.S.L12} &       1.1267  &        0.011     &   105.153  &         0.000        &        1.106    &        1.148     \\\\\n\\textbf{ma.S.L12} &      -0.4638  &        0.114     &    -4.061  &         0.000        &       -0.688    &       -0.240     \\\\\n\\textbf{sigma2}   &      80.9550  &       10.266     &     7.886  &         0.000        &       60.835    &      101.075     \\\\\n\\bottomrule\n\\end{tabular}\n\\begin{tabular}{lclc}\n\\textbf{Ljung-Box (L1) (Q):}     & 0.11 & \\textbf{  Jarque-Bera (JB):  } &  9.32  \\\\\n\\textbf{Prob(Q):}                & 0.74 & \\textbf{  Prob(JB):          } &  0.01  \\\\\n\\textbf{Heteroskedasticity (H):} & 1.49 & \\textbf{  Skew:              } & -0.40  \\\\\n\\textbf{Prob(H) (two-sided):}    & 0.21 & \\textbf{  Kurtosis:          } &  4.11  \\\\\n\\bottomrule\n\\end{tabular}\n%\\caption{SARIMAX Results}\n\\end{center}\n\nWarnings: \\newline\n [1] Covariance matrix calculated using the outer product of gradients (complex-step)."
          },
          "metadata": {},
          "execution_count": 4
        }
      ]
    },
    {
      "cell_type": "markdown",
      "source": [
        "予測"
      ],
      "metadata": {
        "id": "-bSrMqd230WI"
      }
    },
    {
      "cell_type": "code",
      "source": [
        "forecast = results.get_forecast(steps=10)\n",
        "y_pred = forecast.predicted_mean # 各時点の期待値を予測とする\n",
        "\n",
        "fig, ax = plt.subplots()\n",
        "#sns.lineplot(df_train[\"target\"], label=\"train\", marker='.')\n",
        "sns.lineplot(df_test[\"target\"], label=\"test\", marker='.')\n",
        "sns.lineplot(y_pred, label=\"pred\", marker='.')\n",
        "plt.show()"
      ],
      "metadata": {
        "colab": {
          "base_uri": "https://localhost:8080/",
          "height": 430
        },
        "id": "o2OxboS3Qe99",
        "outputId": "ce03924a-e0fc-45a6-8203-e881a1f865b0"
      },
      "execution_count": 5,
      "outputs": [
        {
          "output_type": "display_data",
          "data": {
            "text/plain": [
              "<Figure size 640x480 with 1 Axes>"
            ],
            "image/png": "[encoded data removed]"
          },
          "metadata": {}
        }
      ]
    },
    {
      "cell_type": "code",
      "source": [
        "display(forecast.predicted_mean) # 各時点の期待値\n",
        "display(forecast.var_pred_mean) # 各時点の分散"
      ],
      "metadata": {
        "colab": {
          "base_uri": "https://localhost:8080/",
          "height": 410
        },
        "id": "zNOv_k374nj7",
        "outputId": "a8284b6c-5092-40ee-f336-1873dfd1ff04"
      },
      "execution_count": 6,
      "outputs": [
        {
          "output_type": "display_data",
          "data": {
            "text/plain": [
              "134   461.72502\n",
              "135   449.64672\n",
              "136   471.94628\n",
              "137   544.17055\n",
              "138   623.04109\n",
              "139   634.10196\n",
              "140   525.44412\n",
              "141   461.46805\n",
              "142   406.66490\n",
              "143   452.28110\n",
              "Name: predicted_mean, dtype: float64"
            ]
          },
          "metadata": {}
        },
        {
          "output_type": "display_data",
          "data": {
            "text/plain": [
              "134    80.95502\n",
              "135   112.60410\n",
              "136   139.12466\n",
              "137   161.34776\n",
              "138   179.96976\n",
              "139   195.57419\n",
              "140   208.65003\n",
              "141   219.60703\n",
              "142   228.78852\n",
              "143   236.48221\n",
              "Name: var_pred_mean, dtype: float64"
            ]
          },
          "metadata": {}
        }
      ]
    },
    {
      "cell_type": "markdown",
      "source": [
        "予測値の総和を求める\n",
        "  - 作ったモデルでN時点先までを予測する行為を複数回シミュレーションし、シミュレーション結果から各時点までの総和の予測区間を求める\n",
        "  - SARIMAXのsimulateメソッドを使ってシミュレーションできそう(https://www.statsmodels.org/stable/generated/statsmodels.tsa.statespace.sarimax.SARIMAXResults.simulate.html)\n"
      ],
      "metadata": {
        "id": "qvQ7TxV739EL"
      }
    },
    {
      "cell_type": "code",
      "source": [
        "# def simulation_of_confidence_intervals(results, nsimulations, repetitions, anchor):\n",
        "#     \"\"\"モデリング結果からシミュレーションにより予測値の総和の95%予測区間を求める\n",
        "\n",
        "#     Args:\n",
        "#         results (SARIMAXResults): SARIMAXの返り値\n",
        "#         nsimulations (int): 何時点先まで予測をするか\n",
        "#         repetitions (int): シミュレーションの実行回数\n",
        "#         anchor (int): シミュレーションの開始時刻\n",
        "\n",
        "#     Returns:\n",
        "#         y (list): 時点hまでの予測値の総和の期待値\n",
        "#         ci_upper (list): 信頼区間の上限\n",
        "#         ci_lower (list): 信頼区間の下限\n",
        "#     \"\"\"\n",
        "\n",
        "#     forecast = results.get_forecast(steps=nsimulations)\n",
        "#     y_pred = forecast.predicted_mean # 予測値を求める\n",
        "#     simulated_obs = results.simulate(nsimulations=nsimulations, repetitions=repetitions, anchor=anchor) # 推定したパラメータを用いて予測のシミュレーションをする\n",
        "\n",
        "#     y, ci_upper, ci_lower = [], [], [] # 時点hまでの予測値の総和の期待値、信頼区間の上限、信頼区間の下限\n",
        "#     for h in range(1, nsimulations+1):\n",
        "#         simulated_obs_part = simulated_obs.iloc[:h] # 時点hまでの予測値のシミュレーションを取り出す\n",
        "#         #mean_bar = simulated_obs_part. # h期先までの予測の総和が従う正規分布の期待値\n",
        "#         y_pred_sum = y_pred[:h].sum() # h期先までの総和をとったものは、正規分布に従い期待値はh期先までの予測値の総和になる\n",
        "#         y.append(y_pred_sum)\n",
        "#         std_value = simulated_obs_part.sum(axis=0).std() # シミュレーションを使ってh期先までの総和の標準偏差を求める\n",
        "#         ci_upper.append(y_pred_sum + 1.96*std_value) # 信頼区間を求める\n",
        "#         ci_lower.append(y_pred_sum - 1.96*std_value)\n",
        "#     return y, ci_upper, ci_lower\n",
        "\n",
        "\n",
        "# nsimulations = 10 # 何時点先まで予測をするか\n",
        "# repetitions = 10000 # シミュレーションを何回実行するか\n",
        "# anchor = len(df_train) # シミュレーションの開始時刻(trainの1期先にしたい)\n",
        "\n",
        "# # 結果のプロット\n",
        "# y, ci_upper, ci_lower = simulation_of_confidence_intervals(results, nsimulations, repetitions, anchor)\n",
        "# x = list(range(len(df_train), len(df_train)+nsimulations))\n",
        "# fig, ax = plt.subplots()\n",
        "# ax.plot(x, y, marker=\".\")\n",
        "# ax.fill_between(x, ci_upper, ci_lower, color='b', alpha=.1)\n",
        "# plt.show()"
      ],
      "metadata": {
        "id": "O0_L1i6qzSZU"
      },
      "execution_count": 7,
      "outputs": []
    },
    {
      "cell_type": "code",
      "source": [
        "def calculate_prediction_interval(simulated_obs_part, n, p):\n",
        "    \"\"\"サンプリングしたデータからp%予測区間を求める\n",
        "\n",
        "    Args:\n",
        "        simulated_obs_part (DataFrame): (時点数, シミュレーション回数)のサンプルを入れたDataFrame\n",
        "        n (int): サンプルサイズ(シミュレーション回数)\n",
        "        p (float): p%予測区間を求める時のp\n",
        "\n",
        "    Returns:\n",
        "        mean_bar (float): 時点hまでの予測値の総和の標本平均\n",
        "        ci_upper (float): p%予測区間の上限\n",
        "        ci_lower (float): p%予測区間の下限\n",
        "    \"\"\"\n",
        "    mean_bar = simulated_obs_part.sum(axis=0).mean() # 標本平均を求める\n",
        "    sn = np.sqrt(np.sum((simulated_obs_part.sum(axis=0) - mean_bar)**2) / (n-1)) # 標準偏差を求める\n",
        "    ta = t.ppf((1+p)/2, n-1)\n",
        "    ci = ta*sn*np.sqrt(1+(1/n))\n",
        "    ci_upper = mean_bar+ci\n",
        "    ci_lower = mean_bar-ci\n",
        "    return mean_bar, ci_upper, ci_lower\n",
        "\n",
        "def simulation_of_prediction_intervals(results, nsimulations, repetitions, anchor, p):\n",
        "    \"\"\"モデリング結果からシミュレーションにより予測値の総和の予測区間を求める\n",
        "\n",
        "    Args:\n",
        "        results (SARIMAXResults): SARIMAXの返り値\n",
        "        nsimulations (int): 何時点先まで予測をするか\n",
        "        repetitions (int): シミュレーションの実行回数\n",
        "        anchor (int): シミュレーションの開始時刻\n",
        "        p (float): p%予測区間を求める時のp\n",
        "\n",
        "    Returns:\n",
        "        mean_bars (list): 時点hまでの予測値の総和の期待値\n",
        "        ci_uppers (list): 予測区間の上限\n",
        "        ci_lowers (list): 予測区間の下限\n",
        "    \"\"\"\n",
        "\n",
        "    forecast = results.get_forecast(steps=nsimulations)\n",
        "    y_pred = forecast.predicted_mean # 予測値を求める\n",
        "    simulated_obs = results.simulate(nsimulations=nsimulations, repetitions=repetitions, anchor=anchor) # 推定したパラメータを用いて予測のシミュレーションをする\n",
        "\n",
        "    mean_bars, ci_uppers, ci_lowers = [], [], [] # 時点hまでの予測値の総和の期待値、予測区間の上限、予測区間の下限\n",
        "    for h in range(1, nsimulations+1):\n",
        "        simulated_obs_part = simulated_obs.iloc[:h] # 時点hまでの予測値のシミュレーションを取り出す\n",
        "        mean_bar, ci_upper, ci_lower, = calculate_prediction_interval(simulated_obs_part, repetitions, p) # 時点hまでの予測値の総和の予測区間を求める\n",
        "        mean_bars.append(mean_bar)\n",
        "        ci_uppers.append(ci_upper)\n",
        "        ci_lowers.append(ci_lower)\n",
        "    return mean_bars, ci_uppers, ci_lowers\n",
        "\n",
        "\n",
        "nsimulations = 10 # 何時点先まで予測をするか\n",
        "repetitions = 10000 # シミュレーションを何回実行するか\n",
        "anchor = len(df_train) # シミュレーションの開始時刻(trainの1期先にしたい)\n",
        "p = 0.95\n",
        "\n",
        "# 結果のプロット\n",
        "y, ci_upper, ci_lower = simulation_of_prediction_intervals(results, nsimulations, repetitions, anchor, p)\n",
        "x = list(range(len(df_train), len(df_train)+nsimulations))\n",
        "fig, ax = plt.subplots()\n",
        "ax.plot(x, y, marker=\".\")\n",
        "ax.fill_between(x, ci_upper, ci_lower, color='b', alpha=.1)\n",
        "plt.show()\n"
      ],
      "metadata": {
        "colab": {
          "base_uri": "https://localhost:8080/",
          "height": 430
        },
        "id": "KElsjCdxE7oj",
        "outputId": "1fe57d5f-5497-400b-f8b6-501053b5c842"
      },
      "execution_count": 8,
      "outputs": [
        {
          "output_type": "display_data",
          "data": {
            "text/plain": [
              "<Figure size 640x480 with 1 Axes>"
            ],
            "image/png": "[encoded data removed]"
          },
          "metadata": {}
        }
      ]
    },
    {
      "cell_type": "code",
      "source": [],
      "metadata": {
        "id": "KPE_BmKZR5TX"
      },
      "execution_count": 8,
      "outputs": []
    }
  ]
}