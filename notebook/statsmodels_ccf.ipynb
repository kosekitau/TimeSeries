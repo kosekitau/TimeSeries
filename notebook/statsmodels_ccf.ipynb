{
 "cells": [
  {
   "cell_type": "markdown",
   "metadata": {},
   "source": [
    "statsmodelsの相互相関の検証"
   ]
  },
  {
   "cell_type": "code",
   "execution_count": 1,
   "metadata": {},
   "outputs": [],
   "source": [
    "import numpy as np\n",
    "import pandas as pd\n",
    "import statsmodels.api as sm"
   ]
  },
  {
   "cell_type": "code",
   "execution_count": 2,
   "metadata": {},
   "outputs": [],
   "source": [
    "df_power = pd.read_csv('http://www.tepco.co.jp/forecast/html/images/juyo-2013.csv', skiprows=3, names=['date', 'time', 'actual'], encoding='Shift_JIS')"
   ]
  },
  {
   "cell_type": "code",
   "execution_count": 3,
   "metadata": {},
   "outputs": [
    {
     "data": {
      "text/html": [
       "<div>\n",
       "<style scoped>\n",
       "    .dataframe tbody tr th:only-of-type {\n",
       "        vertical-align: middle;\n",
       "    }\n",
       "\n",
       "    .dataframe tbody tr th {\n",
       "        vertical-align: top;\n",
       "    }\n",
       "\n",
       "    .dataframe thead th {\n",
       "        text-align: right;\n",
       "    }\n",
       "</style>\n",
       "<table border=\"1\" class=\"dataframe\">\n",
       "  <thead>\n",
       "    <tr style=\"text-align: right;\">\n",
       "      <th></th>\n",
       "      <th>date</th>\n",
       "      <th>time</th>\n",
       "      <th>actual</th>\n",
       "    </tr>\n",
       "  </thead>\n",
       "  <tbody>\n",
       "    <tr>\n",
       "      <th>0</th>\n",
       "      <td>2013/1/1</td>\n",
       "      <td>0:00</td>\n",
       "      <td>2873</td>\n",
       "    </tr>\n",
       "    <tr>\n",
       "      <th>1</th>\n",
       "      <td>2013/1/1</td>\n",
       "      <td>1:00</td>\n",
       "      <td>2716</td>\n",
       "    </tr>\n",
       "    <tr>\n",
       "      <th>2</th>\n",
       "      <td>2013/1/1</td>\n",
       "      <td>2:00</td>\n",
       "      <td>2592</td>\n",
       "    </tr>\n",
       "    <tr>\n",
       "      <th>3</th>\n",
       "      <td>2013/1/1</td>\n",
       "      <td>3:00</td>\n",
       "      <td>2482</td>\n",
       "    </tr>\n",
       "    <tr>\n",
       "      <th>4</th>\n",
       "      <td>2013/1/1</td>\n",
       "      <td>4:00</td>\n",
       "      <td>2412</td>\n",
       "    </tr>\n",
       "  </tbody>\n",
       "</table>\n",
       "</div>"
      ],
      "text/plain": [
       "       date  time  actual\n",
       "0  2013/1/1  0:00    2873\n",
       "1  2013/1/1  1:00    2716\n",
       "2  2013/1/1  2:00    2592\n",
       "3  2013/1/1  3:00    2482\n",
       "4  2013/1/1  4:00    2412"
      ]
     },
     "execution_count": 3,
     "metadata": {},
     "output_type": "execute_result"
    }
   ],
   "source": [
    "df_power.head()"
   ]
  },
  {
   "cell_type": "code",
   "execution_count": 4,
   "metadata": {},
   "outputs": [],
   "source": [
    "df_power.index = pd.to_datetime(df_power['date'] + ' ' + df_power['time'])"
   ]
  },
  {
   "cell_type": "code",
   "execution_count": 5,
   "metadata": {},
   "outputs": [],
   "source": [
    "df_power = df_power.drop(['date', 'time'], axis=1)"
   ]
  },
  {
   "cell_type": "code",
   "execution_count": 6,
   "metadata": {},
   "outputs": [],
   "source": [
    "df_power_daily = df_power.resample('D').max()"
   ]
  },
  {
   "cell_type": "code",
   "execution_count": 7,
   "metadata": {},
   "outputs": [
    {
     "data": {
      "text/html": [
       "<div>\n",
       "<style scoped>\n",
       "    .dataframe tbody tr th:only-of-type {\n",
       "        vertical-align: middle;\n",
       "    }\n",
       "\n",
       "    .dataframe tbody tr th {\n",
       "        vertical-align: top;\n",
       "    }\n",
       "\n",
       "    .dataframe thead th {\n",
       "        text-align: right;\n",
       "    }\n",
       "</style>\n",
       "<table border=\"1\" class=\"dataframe\">\n",
       "  <thead>\n",
       "    <tr style=\"text-align: right;\">\n",
       "      <th></th>\n",
       "      <th>actual</th>\n",
       "    </tr>\n",
       "  </thead>\n",
       "  <tbody>\n",
       "    <tr>\n",
       "      <th>2013-01-01</th>\n",
       "      <td>3132</td>\n",
       "    </tr>\n",
       "    <tr>\n",
       "      <th>2013-01-02</th>\n",
       "      <td>3106</td>\n",
       "    </tr>\n",
       "    <tr>\n",
       "      <th>2013-01-03</th>\n",
       "      <td>3558</td>\n",
       "    </tr>\n",
       "    <tr>\n",
       "      <th>2013-01-04</th>\n",
       "      <td>4016</td>\n",
       "    </tr>\n",
       "    <tr>\n",
       "      <th>2013-01-05</th>\n",
       "      <td>4089</td>\n",
       "    </tr>\n",
       "  </tbody>\n",
       "</table>\n",
       "</div>"
      ],
      "text/plain": [
       "            actual\n",
       "2013-01-01    3132\n",
       "2013-01-02    3106\n",
       "2013-01-03    3558\n",
       "2013-01-04    4016\n",
       "2013-01-05    4089"
      ]
     },
     "execution_count": 7,
     "metadata": {},
     "output_type": "execute_result"
    }
   ],
   "source": [
    "df_power_daily.head()"
   ]
  },
  {
   "cell_type": "code",
   "execution_count": 8,
   "metadata": {},
   "outputs": [],
   "source": [
    "df_temp = pd.read_csv('../data/tokyo_temp.csv', skiprows=5, encoding='Shift_JIS')"
   ]
  },
  {
   "cell_type": "code",
   "execution_count": 9,
   "metadata": {},
   "outputs": [],
   "source": [
    "df_temp.index = idx_temp = pd.to_datetime(df_temp['Unnamed: 0'])\n",
    "df_temp = df_temp.drop(['Unnamed: 0', '品質情報', '均質番号', '品質情報.1', '均質番号.1'], axis=1)\n",
    "df_temp.columns = ['max', 'min']\n",
    "df_temp.index.name = 'date'"
   ]
  },
  {
   "cell_type": "code",
   "execution_count": 10,
   "metadata": {},
   "outputs": [
    {
     "data": {
      "text/html": [
       "<div>\n",
       "<style scoped>\n",
       "    .dataframe tbody tr th:only-of-type {\n",
       "        vertical-align: middle;\n",
       "    }\n",
       "\n",
       "    .dataframe tbody tr th {\n",
       "        vertical-align: top;\n",
       "    }\n",
       "\n",
       "    .dataframe thead th {\n",
       "        text-align: right;\n",
       "    }\n",
       "</style>\n",
       "<table border=\"1\" class=\"dataframe\">\n",
       "  <thead>\n",
       "    <tr style=\"text-align: right;\">\n",
       "      <th></th>\n",
       "      <th>max</th>\n",
       "      <th>min</th>\n",
       "    </tr>\n",
       "    <tr>\n",
       "      <th>date</th>\n",
       "      <th></th>\n",
       "      <th></th>\n",
       "    </tr>\n",
       "  </thead>\n",
       "  <tbody>\n",
       "    <tr>\n",
       "      <th>2013-01-01</th>\n",
       "      <td>9.6</td>\n",
       "      <td>3.0</td>\n",
       "    </tr>\n",
       "    <tr>\n",
       "      <th>2013-01-02</th>\n",
       "      <td>14.4</td>\n",
       "      <td>4.2</td>\n",
       "    </tr>\n",
       "    <tr>\n",
       "      <th>2013-01-03</th>\n",
       "      <td>9.9</td>\n",
       "      <td>1.8</td>\n",
       "    </tr>\n",
       "    <tr>\n",
       "      <th>2013-01-04</th>\n",
       "      <td>6.9</td>\n",
       "      <td>1.0</td>\n",
       "    </tr>\n",
       "    <tr>\n",
       "      <th>2013-01-05</th>\n",
       "      <td>4.8</td>\n",
       "      <td>0.2</td>\n",
       "    </tr>\n",
       "  </tbody>\n",
       "</table>\n",
       "</div>"
      ],
      "text/plain": [
       "             max  min\n",
       "date                 \n",
       "2013-01-01   9.6  3.0\n",
       "2013-01-02  14.4  4.2\n",
       "2013-01-03   9.9  1.8\n",
       "2013-01-04   6.9  1.0\n",
       "2013-01-05   4.8  0.2"
      ]
     },
     "execution_count": 10,
     "metadata": {},
     "output_type": "execute_result"
    }
   ],
   "source": [
    "df_temp.head()"
   ]
  },
  {
   "cell_type": "code",
   "execution_count": 11,
   "metadata": {},
   "outputs": [
    {
     "data": {
      "text/plain": [
       "(206, 365)"
      ]
     },
     "execution_count": 11,
     "metadata": {},
     "output_type": "execute_result"
    }
   ],
   "source": [
    "len(df_temp), len(df_power_daily)"
   ]
  },
  {
   "cell_type": "code",
   "execution_count": 14,
   "metadata": {},
   "outputs": [],
   "source": [
    "df_new = pd.concat([df_temp, df_power_daily.iloc[:len(df_temp)]], axis=1)"
   ]
  },
  {
   "cell_type": "code",
   "execution_count": 15,
   "metadata": {},
   "outputs": [
    {
     "data": {
      "text/html": [
       "<div>\n",
       "<style scoped>\n",
       "    .dataframe tbody tr th:only-of-type {\n",
       "        vertical-align: middle;\n",
       "    }\n",
       "\n",
       "    .dataframe tbody tr th {\n",
       "        vertical-align: top;\n",
       "    }\n",
       "\n",
       "    .dataframe thead th {\n",
       "        text-align: right;\n",
       "    }\n",
       "</style>\n",
       "<table border=\"1\" class=\"dataframe\">\n",
       "  <thead>\n",
       "    <tr style=\"text-align: right;\">\n",
       "      <th></th>\n",
       "      <th>max</th>\n",
       "      <th>min</th>\n",
       "      <th>actual</th>\n",
       "    </tr>\n",
       "  </thead>\n",
       "  <tbody>\n",
       "    <tr>\n",
       "      <th>2013-01-01</th>\n",
       "      <td>9.6</td>\n",
       "      <td>3.0</td>\n",
       "      <td>3132</td>\n",
       "    </tr>\n",
       "    <tr>\n",
       "      <th>2013-01-02</th>\n",
       "      <td>14.4</td>\n",
       "      <td>4.2</td>\n",
       "      <td>3106</td>\n",
       "    </tr>\n",
       "    <tr>\n",
       "      <th>2013-01-03</th>\n",
       "      <td>9.9</td>\n",
       "      <td>1.8</td>\n",
       "      <td>3558</td>\n",
       "    </tr>\n",
       "    <tr>\n",
       "      <th>2013-01-04</th>\n",
       "      <td>6.9</td>\n",
       "      <td>1.0</td>\n",
       "      <td>4016</td>\n",
       "    </tr>\n",
       "    <tr>\n",
       "      <th>2013-01-05</th>\n",
       "      <td>4.8</td>\n",
       "      <td>0.2</td>\n",
       "      <td>4089</td>\n",
       "    </tr>\n",
       "  </tbody>\n",
       "</table>\n",
       "</div>"
      ],
      "text/plain": [
       "             max  min  actual\n",
       "2013-01-01   9.6  3.0    3132\n",
       "2013-01-02  14.4  4.2    3106\n",
       "2013-01-03   9.9  1.8    3558\n",
       "2013-01-04   6.9  1.0    4016\n",
       "2013-01-05   4.8  0.2    4089"
      ]
     },
     "execution_count": 15,
     "metadata": {},
     "output_type": "execute_result"
    }
   ],
   "source": [
    "df_new.head()"
   ]
  },
  {
   "cell_type": "code",
   "execution_count": 16,
   "metadata": {},
   "outputs": [
    {
     "data": {
      "text/html": [
       "<div>\n",
       "<style scoped>\n",
       "    .dataframe tbody tr th:only-of-type {\n",
       "        vertical-align: middle;\n",
       "    }\n",
       "\n",
       "    .dataframe tbody tr th {\n",
       "        vertical-align: top;\n",
       "    }\n",
       "\n",
       "    .dataframe thead th {\n",
       "        text-align: right;\n",
       "    }\n",
       "</style>\n",
       "<table border=\"1\" class=\"dataframe\">\n",
       "  <thead>\n",
       "    <tr style=\"text-align: right;\">\n",
       "      <th></th>\n",
       "      <th>max</th>\n",
       "      <th>min</th>\n",
       "      <th>actual</th>\n",
       "    </tr>\n",
       "  </thead>\n",
       "  <tbody>\n",
       "    <tr>\n",
       "      <th>2013-07-21</th>\n",
       "      <td>29.0</td>\n",
       "      <td>21.0</td>\n",
       "      <td>3483</td>\n",
       "    </tr>\n",
       "    <tr>\n",
       "      <th>2013-07-22</th>\n",
       "      <td>30.4</td>\n",
       "      <td>23.5</td>\n",
       "      <td>4187</td>\n",
       "    </tr>\n",
       "    <tr>\n",
       "      <th>2013-07-23</th>\n",
       "      <td>35.2</td>\n",
       "      <td>25.2</td>\n",
       "      <td>4603</td>\n",
       "    </tr>\n",
       "    <tr>\n",
       "      <th>2013-07-24</th>\n",
       "      <td>27.1</td>\n",
       "      <td>24.3</td>\n",
       "      <td>3981</td>\n",
       "    </tr>\n",
       "    <tr>\n",
       "      <th>2013-07-25</th>\n",
       "      <td>29.3</td>\n",
       "      <td>24.1</td>\n",
       "      <td>4033</td>\n",
       "    </tr>\n",
       "  </tbody>\n",
       "</table>\n",
       "</div>"
      ],
      "text/plain": [
       "             max   min  actual\n",
       "2013-07-21  29.0  21.0    3483\n",
       "2013-07-22  30.4  23.5    4187\n",
       "2013-07-23  35.2  25.2    4603\n",
       "2013-07-24  27.1  24.3    3981\n",
       "2013-07-25  29.3  24.1    4033"
      ]
     },
     "execution_count": 16,
     "metadata": {},
     "output_type": "execute_result"
    }
   ],
   "source": [
    "df_new.tail()"
   ]
  },
  {
   "cell_type": "markdown",
   "metadata": {},
   "source": [
    "相互相関を計算する"
   ]
  },
  {
   "cell_type": "code",
   "execution_count": 77,
   "metadata": {},
   "outputs": [
    {
     "name": "stdout",
     "output_type": "stream",
     "text": [
      "[-0.32979868 -0.31116132 -0.29658975 -0.2994282  -0.30128682 -0.31436546\n",
      " -0.34079486 -0.35146011 -0.37128077 -0.38510173 -0.38960407 -0.39223166\n",
      " -0.40080683 -0.38947876 -0.38534167 -0.40924213 -0.44582121 -0.46185581\n",
      " -0.48502677 -0.49586986 -0.50203242 -0.49869879 -0.48857328 -0.49732349\n",
      " -0.50901217 -0.52628364 -0.54439936 -0.56237884 -0.56299461 -0.55544652\n",
      " -0.56674342]\n",
      "[-0.32979868 -0.31116132 -0.29658975 -0.2994282  -0.30128682 -0.31436546\n",
      " -0.34079486 -0.35146011 -0.37128077 -0.38510173 -0.38960407 -0.39223166\n",
      " -0.40080683 -0.38947876 -0.38534167 -0.40924213 -0.44582121 -0.46185581\n",
      " -0.48502677 -0.49586986 -0.50203242 -0.49869879 -0.48857328 -0.49732349\n",
      " -0.50901217 -0.52628364 -0.54439936 -0.56237884 -0.56299461 -0.55544652\n",
      " -0.56674342]\n"
     ]
    }
   ],
   "source": [
    "nlags = 30\n",
    "x_mean = x.mean()\n",
    "y_mean = y.mean()\n",
    "\n",
    "ccf_np = [np.mean((x - x_mean) * (y - y_mean)) / (np.std(x)*np.std(y))]\n",
    "for i in range(1, nlags+1):\n",
    "    # xと　i時点前のyの相互相関を計算\n",
    "    _ccf = np.mean((x[i:] - x_mean) * (y[:-i] - y_mean)) / (np.std(x)*np.std(y))\n",
    "    ccf_np.append(_ccf)\n",
    "\n",
    "ccf_xy =  sm.tsa.ccf(x, y)[:31]\n",
    "ccf_np = np.array(ccf_np)\n",
    "print(ccf_xy)\n",
    "print(ccf_np)"
   ]
  },
  {
   "cell_type": "code",
   "execution_count": 78,
   "metadata": {},
   "outputs": [
    {
     "name": "stdout",
     "output_type": "stream",
     "text": [
      "[-0.32979868 -0.31064893 -0.30302941 -0.3031257  -0.28233516 -0.28174299\n",
      " -0.29470576 -0.29782515 -0.28743341 -0.28487568 -0.27647852 -0.26121676\n",
      " -0.23530887 -0.22073873 -0.19105179 -0.18622102 -0.18602166 -0.15947057\n",
      " -0.16002456 -0.15965119 -0.14338357 -0.12573765 -0.10828607 -0.08572854\n",
      " -0.06858216 -0.06181091 -0.06334083 -0.07322346 -0.0578149  -0.03507868\n",
      " -0.02729947]\n",
      "[-0.32979868 -0.31064893 -0.30302941 -0.3031257  -0.28233516 -0.28174299\n",
      " -0.29470576 -0.29782515 -0.28743341 -0.28487568 -0.27647852 -0.26121676\n",
      " -0.23530887 -0.22073873 -0.19105179 -0.18622102 -0.18602166 -0.15947057\n",
      " -0.16002456 -0.15965119 -0.14338357 -0.12573765 -0.10828607 -0.08572854\n",
      " -0.06858216 -0.06181091 -0.06334083 -0.07322346 -0.0578149  -0.03507868\n",
      " -0.02729947]\n"
     ]
    }
   ],
   "source": [
    "ccf_np2 = [np.mean((x - x_mean) * (y - y_mean)) / (np.std(x)*np.std(y))]\n",
    "for i in range(1, nlags+1):\n",
    "    # xと　i時点後のyの相互相関を計算\n",
    "    _ccf = np.mean((x[:-i] - x_mean) * (y[i:] - y_mean)) / (np.std(x)*np.std(y))\n",
    "    ccf_np2.append(_ccf)\n",
    "\n",
    "ccf_xy =  sm.tsa.ccf(y, x)[:31]    \n",
    "ccf_np2 = np.array(ccf_np2)\n",
    "print(ccf_xy)\n",
    "print(ccf_np2)"
   ]
  },
  {
   "cell_type": "markdown",
   "metadata": {},
   "source": [
    "sm.tsa.ccf(x, y) -> xと過去のyとの相互相関を求めている  \n",
    "sm.tsa.ccf(y, x) -> xと未来のyとの相互相関を求めている"
   ]
  },
  {
   "cell_type": "code",
   "execution_count": null,
   "metadata": {},
   "outputs": [],
   "source": []
  }
 ],
 "metadata": {
  "kernelspec": {
   "display_name": "Python 3",
   "language": "python",
   "name": "python3"
  },
  "language_info": {
   "codemirror_mode": {
    "name": "ipython",
    "version": 3
   },
   "file_extension": ".py",
   "mimetype": "text/x-python",
   "name": "python",
   "nbconvert_exporter": "python",
   "pygments_lexer": "ipython3",
   "version": "3.7.3"
  }
 },
 "nbformat": 4,
 "nbformat_minor": 2
}
